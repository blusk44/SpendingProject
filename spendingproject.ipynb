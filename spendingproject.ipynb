{
 "cells": [
  {
   "cell_type": "markdown",
   "metadata": {},
   "source": [
    "## Introduction\n",
    "The purpose of this notebook is to compare government spending with household spending. This project has an extremely wide scope with a very general hypothesis. The hypothesis is that households are more responsible with their money than government. The reason I take this view with my hypothesis is twofold. First, households are able to respond to changing conditions and circumstances more quickly than government. Second, that politics makes it hard for politicians to raise taxes or cut spending, thus we see the budget move steadily upward."
   ]
  },
  {
   "cell_type": "markdown",
   "metadata": {},
   "source": [
    "# Data\n",
    "Household data is available from the Fed: https://www.federalreserve.gov/releases/housedebt/default.htm\n",
    "According to the Fed this data set consists of \"Household debt service payments and financial obligations as a percentage of disposable personal income; seasonally adjusted\"\n",
    "\n",
    "Federal budget data is available from the CBO: https://www.cbo.gov/about/products/budget-economic-data"
   ]
  },
  {
   "cell_type": "code",
   "execution_count": 1,
   "metadata": {},
   "outputs": [],
   "source": [
    "import numpy as np\n",
    "import pandas as pd\n",
    "import matplotlib.pyplot as plt\n",
    "import requests\n",
    "from bs4 import BeautifulSoup"
   ]
  },
  {
   "cell_type": "code",
   "execution_count": 2,
   "metadata": {},
   "outputs": [],
   "source": [
    "%matplotlib inline"
   ]
  },
  {
   "cell_type": "code",
   "execution_count": 3,
   "metadata": {},
   "outputs": [],
   "source": [
    "# Budget data in dollars\n",
    "budget = pd.read_csv('Desktop/budgetdata.csv', thousands=',')"
   ]
  },
  {
   "cell_type": "code",
   "execution_count": 4,
   "metadata": {},
   "outputs": [
    {
     "data": {
      "text/html": [
       "<div>\n",
       "<style scoped>\n",
       "    .dataframe tbody tr th:only-of-type {\n",
       "        vertical-align: middle;\n",
       "    }\n",
       "\n",
       "    .dataframe tbody tr th {\n",
       "        vertical-align: top;\n",
       "    }\n",
       "\n",
       "    .dataframe thead th {\n",
       "        text-align: right;\n",
       "    }\n",
       "</style>\n",
       "<table border=\"1\" class=\"dataframe\">\n",
       "  <thead>\n",
       "    <tr style=\"text-align: right;\">\n",
       "      <th></th>\n",
       "      <th>Unnamed: 0</th>\n",
       "      <th>Revenues</th>\n",
       "      <th>Outlays</th>\n",
       "      <th>On-Budget</th>\n",
       "      <th>Social Security</th>\n",
       "      <th>Postal Service</th>\n",
       "      <th>Total</th>\n",
       "      <th>Public Debt</th>\n",
       "    </tr>\n",
       "  </thead>\n",
       "  <tbody>\n",
       "    <tr>\n",
       "      <th>0</th>\n",
       "      <td>1965</td>\n",
       "      <td>116.8</td>\n",
       "      <td>118.2</td>\n",
       "      <td>-1.6</td>\n",
       "      <td>0.2</td>\n",
       "      <td>n.a.</td>\n",
       "      <td>-1.4</td>\n",
       "      <td>260.8</td>\n",
       "    </tr>\n",
       "    <tr>\n",
       "      <th>1</th>\n",
       "      <td>1966</td>\n",
       "      <td>130.8</td>\n",
       "      <td>134.5</td>\n",
       "      <td>-3.1</td>\n",
       "      <td>-0.6</td>\n",
       "      <td>n.a.</td>\n",
       "      <td>-3.7</td>\n",
       "      <td>263.7</td>\n",
       "    </tr>\n",
       "    <tr>\n",
       "      <th>2</th>\n",
       "      <td>1967</td>\n",
       "      <td>148.8</td>\n",
       "      <td>157.5</td>\n",
       "      <td>-12.6</td>\n",
       "      <td>4.0</td>\n",
       "      <td>n.a.</td>\n",
       "      <td>-8.6</td>\n",
       "      <td>266.6</td>\n",
       "    </tr>\n",
       "    <tr>\n",
       "      <th>3</th>\n",
       "      <td>1968</td>\n",
       "      <td>153.0</td>\n",
       "      <td>178.1</td>\n",
       "      <td>-27.7</td>\n",
       "      <td>2.6</td>\n",
       "      <td>n.a.</td>\n",
       "      <td>-25.2</td>\n",
       "      <td>289.5</td>\n",
       "    </tr>\n",
       "    <tr>\n",
       "      <th>4</th>\n",
       "      <td>1969</td>\n",
       "      <td>186.9</td>\n",
       "      <td>183.6</td>\n",
       "      <td>-0.5</td>\n",
       "      <td>3.7</td>\n",
       "      <td>n.a.</td>\n",
       "      <td>3.2</td>\n",
       "      <td>278.1</td>\n",
       "    </tr>\n",
       "  </tbody>\n",
       "</table>\n",
       "</div>"
      ],
      "text/plain": [
       "   Unnamed: 0  Revenues  Outlays  On-Budget  Social Security Postal Service   \\\n",
       "0        1965     116.8    118.2       -1.6              0.2            n.a.   \n",
       "1        1966     130.8    134.5       -3.1             -0.6            n.a.   \n",
       "2        1967     148.8    157.5      -12.6              4.0            n.a.   \n",
       "3        1968     153.0    178.1      -27.7              2.6            n.a.   \n",
       "4        1969     186.9    183.6       -0.5              3.7            n.a.   \n",
       "\n",
       "   Total  Public Debt  \n",
       "0   -1.4        260.8  \n",
       "1   -3.7        263.7  \n",
       "2   -8.6        266.6  \n",
       "3  -25.2        289.5  \n",
       "4    3.2        278.1  "
      ]
     },
     "execution_count": 4,
     "metadata": {},
     "output_type": "execute_result"
    }
   ],
   "source": [
    "budget.head()"
   ]
  },
  {
   "cell_type": "code",
   "execution_count": 5,
   "metadata": {},
   "outputs": [
    {
     "data": {
      "text/plain": [
       "Index(['Unnamed: 0', 'Revenues', 'Outlays', 'On-Budget', 'Social Security',\n",
       "       'Postal Service ', 'Total', 'Public Debt'],\n",
       "      dtype='object')"
      ]
     },
     "execution_count": 5,
     "metadata": {},
     "output_type": "execute_result"
    }
   ],
   "source": [
    "budget.columns"
   ]
  },
  {
   "cell_type": "code",
   "execution_count": 6,
   "metadata": {},
   "outputs": [],
   "source": [
    "budget.rename(columns={'Unnamed: 0':'Year'}, inplace=True)"
   ]
  },
  {
   "cell_type": "code",
   "execution_count": 7,
   "metadata": {},
   "outputs": [
    {
     "data": {
      "text/html": [
       "<div>\n",
       "<style scoped>\n",
       "    .dataframe tbody tr th:only-of-type {\n",
       "        vertical-align: middle;\n",
       "    }\n",
       "\n",
       "    .dataframe tbody tr th {\n",
       "        vertical-align: top;\n",
       "    }\n",
       "\n",
       "    .dataframe thead th {\n",
       "        text-align: right;\n",
       "    }\n",
       "</style>\n",
       "<table border=\"1\" class=\"dataframe\">\n",
       "  <thead>\n",
       "    <tr style=\"text-align: right;\">\n",
       "      <th></th>\n",
       "      <th>Year</th>\n",
       "      <th>Revenues</th>\n",
       "      <th>Outlays</th>\n",
       "      <th>On-Budget</th>\n",
       "      <th>Social Security</th>\n",
       "      <th>Postal Service</th>\n",
       "      <th>Total</th>\n",
       "      <th>Public Debt</th>\n",
       "    </tr>\n",
       "  </thead>\n",
       "  <tbody>\n",
       "    <tr>\n",
       "      <th>0</th>\n",
       "      <td>1965</td>\n",
       "      <td>116.8</td>\n",
       "      <td>118.2</td>\n",
       "      <td>-1.6</td>\n",
       "      <td>0.2</td>\n",
       "      <td>n.a.</td>\n",
       "      <td>-1.4</td>\n",
       "      <td>260.8</td>\n",
       "    </tr>\n",
       "    <tr>\n",
       "      <th>1</th>\n",
       "      <td>1966</td>\n",
       "      <td>130.8</td>\n",
       "      <td>134.5</td>\n",
       "      <td>-3.1</td>\n",
       "      <td>-0.6</td>\n",
       "      <td>n.a.</td>\n",
       "      <td>-3.7</td>\n",
       "      <td>263.7</td>\n",
       "    </tr>\n",
       "    <tr>\n",
       "      <th>2</th>\n",
       "      <td>1967</td>\n",
       "      <td>148.8</td>\n",
       "      <td>157.5</td>\n",
       "      <td>-12.6</td>\n",
       "      <td>4.0</td>\n",
       "      <td>n.a.</td>\n",
       "      <td>-8.6</td>\n",
       "      <td>266.6</td>\n",
       "    </tr>\n",
       "    <tr>\n",
       "      <th>3</th>\n",
       "      <td>1968</td>\n",
       "      <td>153.0</td>\n",
       "      <td>178.1</td>\n",
       "      <td>-27.7</td>\n",
       "      <td>2.6</td>\n",
       "      <td>n.a.</td>\n",
       "      <td>-25.2</td>\n",
       "      <td>289.5</td>\n",
       "    </tr>\n",
       "    <tr>\n",
       "      <th>4</th>\n",
       "      <td>1969</td>\n",
       "      <td>186.9</td>\n",
       "      <td>183.6</td>\n",
       "      <td>-0.5</td>\n",
       "      <td>3.7</td>\n",
       "      <td>n.a.</td>\n",
       "      <td>3.2</td>\n",
       "      <td>278.1</td>\n",
       "    </tr>\n",
       "  </tbody>\n",
       "</table>\n",
       "</div>"
      ],
      "text/plain": [
       "   Year  Revenues  Outlays  On-Budget  Social Security Postal Service   Total  \\\n",
       "0  1965     116.8    118.2       -1.6              0.2            n.a.   -1.4   \n",
       "1  1966     130.8    134.5       -3.1             -0.6            n.a.   -3.7   \n",
       "2  1967     148.8    157.5      -12.6              4.0            n.a.   -8.6   \n",
       "3  1968     153.0    178.1      -27.7              2.6            n.a.  -25.2   \n",
       "4  1969     186.9    183.6       -0.5              3.7            n.a.    3.2   \n",
       "\n",
       "   Public Debt  \n",
       "0        260.8  \n",
       "1        263.7  \n",
       "2        266.6  \n",
       "3        289.5  \n",
       "4        278.1  "
      ]
     },
     "execution_count": 7,
     "metadata": {},
     "output_type": "execute_result"
    }
   ],
   "source": [
    "budget.head()"
   ]
  },
  {
   "cell_type": "code",
   "execution_count": 8,
   "metadata": {},
   "outputs": [
    {
     "data": {
      "text/plain": [
       "Year                 int64\n",
       "Revenues           float64\n",
       "Outlays            float64\n",
       "On-Budget          float64\n",
       "Social Security    float64\n",
       "Postal Service      object\n",
       "Total              float64\n",
       "Public Debt        float64\n",
       "dtype: object"
      ]
     },
     "execution_count": 8,
     "metadata": {},
     "output_type": "execute_result"
    }
   ],
   "source": [
    "budget.dtypes"
   ]
  },
  {
   "cell_type": "code",
   "execution_count": 9,
   "metadata": {},
   "outputs": [
    {
     "data": {
      "image/png": "[encoded data removed]",
      "text/plain": [
       "<Figure size 432x288 with 1 Axes>"
      ]
     },
     "metadata": {
      "needs_background": "light"
     },
     "output_type": "display_data"
    }
   ],
   "source": [
    "budget.plot(x='Year',y=['Revenues','Outlays','Total'])\n",
    "plt.ylabel('Dollars(Billions)')\n",
    "plt.show()"
   ]
  },
  {
   "cell_type": "code",
   "execution_count": 10,
   "metadata": {},
   "outputs": [],
   "source": [
    "# Budget data as percentage of GDP. The budget data sets had huge headers that contained superfluous information.\n",
    "# It was easier to just delete it all in Excel and then read the table off the first page and import column names separately.\n",
    "budgdp = pd.read_csv('Desktop/budgetgdp.csv')"
   ]
  },
  {
   "cell_type": "code",
   "execution_count": 11,
   "metadata": {},
   "outputs": [
    {
     "data": {
      "text/html": [
       "<div>\n",
       "<style scoped>\n",
       "    .dataframe tbody tr th:only-of-type {\n",
       "        vertical-align: middle;\n",
       "    }\n",
       "\n",
       "    .dataframe tbody tr th {\n",
       "        vertical-align: top;\n",
       "    }\n",
       "\n",
       "    .dataframe thead th {\n",
       "        text-align: right;\n",
       "    }\n",
       "</style>\n",
       "<table border=\"1\" class=\"dataframe\">\n",
       "  <thead>\n",
       "    <tr style=\"text-align: right;\">\n",
       "      <th></th>\n",
       "      <th>Unnamed: 0</th>\n",
       "      <th>As a Percentage of Gross Domestic Product</th>\n",
       "      <th>Unnamed: 2</th>\n",
       "      <th>Unnamed: 3</th>\n",
       "      <th>Unnamed: 4</th>\n",
       "      <th>Unnamed: 5</th>\n",
       "      <th>Unnamed: 6</th>\n",
       "      <th>Unnamed: 7</th>\n",
       "    </tr>\n",
       "  </thead>\n",
       "  <tbody>\n",
       "    <tr>\n",
       "      <th>0</th>\n",
       "      <td>1965</td>\n",
       "      <td>16.5</td>\n",
       "      <td>16.7</td>\n",
       "      <td>-0.2</td>\n",
       "      <td>0.0</td>\n",
       "      <td>n.a.</td>\n",
       "      <td>-0.2</td>\n",
       "      <td>36.8</td>\n",
       "    </tr>\n",
       "    <tr>\n",
       "      <th>1</th>\n",
       "      <td>1966</td>\n",
       "      <td>16.8</td>\n",
       "      <td>17.2</td>\n",
       "      <td>-0.4</td>\n",
       "      <td>-0.1</td>\n",
       "      <td>n.a.</td>\n",
       "      <td>-0.5</td>\n",
       "      <td>33.8</td>\n",
       "    </tr>\n",
       "    <tr>\n",
       "      <th>2</th>\n",
       "      <td>1967</td>\n",
       "      <td>17.8</td>\n",
       "      <td>18.8</td>\n",
       "      <td>-1.5</td>\n",
       "      <td>0.5</td>\n",
       "      <td>n.a.</td>\n",
       "      <td>-1.0</td>\n",
       "      <td>31.9</td>\n",
       "    </tr>\n",
       "  </tbody>\n",
       "</table>\n",
       "</div>"
      ],
      "text/plain": [
       "   Unnamed: 0  As a Percentage of Gross Domestic Product  Unnamed: 2  \\\n",
       "0        1965                                       16.5        16.7   \n",
       "1        1966                                       16.8        17.2   \n",
       "2        1967                                       17.8        18.8   \n",
       "\n",
       "   Unnamed: 3  Unnamed: 4 Unnamed: 5  Unnamed: 6  Unnamed: 7  \n",
       "0        -0.2         0.0       n.a.        -0.2        36.8  \n",
       "1        -0.4        -0.1       n.a.        -0.5        33.8  \n",
       "2        -1.5         0.5       n.a.        -1.0        31.9  "
      ]
     },
     "execution_count": 11,
     "metadata": {},
     "output_type": "execute_result"
    }
   ],
   "source": [
    "budgdp.head(3)"
   ]
  },
  {
   "cell_type": "code",
   "execution_count": 12,
   "metadata": {
    "scrolled": true
   },
   "outputs": [],
   "source": [
    "budgdp.columns = budget.columns"
   ]
  },
  {
   "cell_type": "code",
   "execution_count": 13,
   "metadata": {},
   "outputs": [
    {
     "data": {
      "text/html": [
       "<div>\n",
       "<style scoped>\n",
       "    .dataframe tbody tr th:only-of-type {\n",
       "        vertical-align: middle;\n",
       "    }\n",
       "\n",
       "    .dataframe tbody tr th {\n",
       "        vertical-align: top;\n",
       "    }\n",
       "\n",
       "    .dataframe thead th {\n",
       "        text-align: right;\n",
       "    }\n",
       "</style>\n",
       "<table border=\"1\" class=\"dataframe\">\n",
       "  <thead>\n",
       "    <tr style=\"text-align: right;\">\n",
       "      <th></th>\n",
       "      <th>Year</th>\n",
       "      <th>Revenues</th>\n",
       "      <th>Outlays</th>\n",
       "      <th>On-Budget</th>\n",
       "      <th>Social Security</th>\n",
       "      <th>Postal Service</th>\n",
       "      <th>Total</th>\n",
       "      <th>Public Debt</th>\n",
       "    </tr>\n",
       "  </thead>\n",
       "  <tbody>\n",
       "    <tr>\n",
       "      <th>0</th>\n",
       "      <td>1965</td>\n",
       "      <td>16.5</td>\n",
       "      <td>16.7</td>\n",
       "      <td>-0.2</td>\n",
       "      <td>0.0</td>\n",
       "      <td>n.a.</td>\n",
       "      <td>-0.2</td>\n",
       "      <td>36.8</td>\n",
       "    </tr>\n",
       "    <tr>\n",
       "      <th>1</th>\n",
       "      <td>1966</td>\n",
       "      <td>16.8</td>\n",
       "      <td>17.2</td>\n",
       "      <td>-0.4</td>\n",
       "      <td>-0.1</td>\n",
       "      <td>n.a.</td>\n",
       "      <td>-0.5</td>\n",
       "      <td>33.8</td>\n",
       "    </tr>\n",
       "    <tr>\n",
       "      <th>2</th>\n",
       "      <td>1967</td>\n",
       "      <td>17.8</td>\n",
       "      <td>18.8</td>\n",
       "      <td>-1.5</td>\n",
       "      <td>0.5</td>\n",
       "      <td>n.a.</td>\n",
       "      <td>-1.0</td>\n",
       "      <td>31.9</td>\n",
       "    </tr>\n",
       "  </tbody>\n",
       "</table>\n",
       "</div>"
      ],
      "text/plain": [
       "   Year  Revenues  Outlays  On-Budget  Social Security Postal Service   Total  \\\n",
       "0  1965      16.5     16.7       -0.2              0.0            n.a.   -0.2   \n",
       "1  1966      16.8     17.2       -0.4             -0.1            n.a.   -0.5   \n",
       "2  1967      17.8     18.8       -1.5              0.5            n.a.   -1.0   \n",
       "\n",
       "   Public Debt  \n",
       "0         36.8  \n",
       "1         33.8  \n",
       "2         31.9  "
      ]
     },
     "execution_count": 13,
     "metadata": {},
     "output_type": "execute_result"
    }
   ],
   "source": [
    "budgdp.head(3)"
   ]
  },
  {
   "cell_type": "code",
   "execution_count": 14,
   "metadata": {},
   "outputs": [
    {
     "data": {
      "image/png": "[encoded data removed]",
      "text/plain": [
       "<Figure size 432x288 with 1 Axes>"
      ]
     },
     "metadata": {
      "needs_background": "light"
     },
     "output_type": "display_data"
    }
   ],
   "source": [
    "budgdp.plot(x='Year',y=['Revenues','Outlays','Total'])\n",
    "plt.ylabel('Percentage of GDP')\n",
    "plt.show()"
   ]
  },
  {
   "cell_type": "code",
   "execution_count": 15,
   "metadata": {},
   "outputs": [],
   "source": [
    "# Household debt service payments and financial obligations as a percentage of disposable personal income; seasonally adjusted\n",
    "hhold = pd.read_csv('Desktop/FRB_FOR.csv')"
   ]
  },
  {
   "cell_type": "code",
   "execution_count": 16,
   "metadata": {
    "scrolled": false
   },
   "outputs": [
    {
     "data": {
      "text/html": [
       "<div>\n",
       "<style scoped>\n",
       "    .dataframe tbody tr th:only-of-type {\n",
       "        vertical-align: middle;\n",
       "    }\n",
       "\n",
       "    .dataframe tbody tr th {\n",
       "        vertical-align: top;\n",
       "    }\n",
       "\n",
       "    .dataframe thead th {\n",
       "        text-align: right;\n",
       "    }\n",
       "</style>\n",
       "<table border=\"1\" class=\"dataframe\">\n",
       "  <thead>\n",
       "    <tr style=\"text-align: right;\">\n",
       "      <th></th>\n",
       "      <th>Series Description</th>\n",
       "      <th>Debt service ratio, seasonally adjusted</th>\n",
       "      <th>Mortgage debt service ratio, seasonally adjusted</th>\n",
       "      <th>Consumer debt service ratio, seasonally adjusted</th>\n",
       "      <th>Financial obligations ratio, seasonally adjusted</th>\n",
       "    </tr>\n",
       "  </thead>\n",
       "  <tbody>\n",
       "    <tr>\n",
       "      <th>0</th>\n",
       "      <td>1994Q1</td>\n",
       "      <td>10.388445</td>\n",
       "      <td>5.556527</td>\n",
       "      <td>4.831917</td>\n",
       "      <td>15.690103</td>\n",
       "    </tr>\n",
       "    <tr>\n",
       "      <th>1</th>\n",
       "      <td>1994Q2</td>\n",
       "      <td>10.452491</td>\n",
       "      <td>5.528256</td>\n",
       "      <td>4.924236</td>\n",
       "      <td>15.761009</td>\n",
       "    </tr>\n",
       "    <tr>\n",
       "      <th>2</th>\n",
       "      <td>1994Q3</td>\n",
       "      <td>10.586958</td>\n",
       "      <td>5.551088</td>\n",
       "      <td>5.035871</td>\n",
       "      <td>15.914829</td>\n",
       "    </tr>\n",
       "  </tbody>\n",
       "</table>\n",
       "</div>"
      ],
      "text/plain": [
       "  Series Description  Debt service ratio, seasonally adjusted  \\\n",
       "0             1994Q1                                10.388445   \n",
       "1             1994Q2                                10.452491   \n",
       "2             1994Q3                                10.586958   \n",
       "\n",
       "   Mortgage debt service ratio, seasonally adjusted  \\\n",
       "0                                          5.556527   \n",
       "1                                          5.528256   \n",
       "2                                          5.551088   \n",
       "\n",
       "   Consumer debt service ratio, seasonally adjusted  \\\n",
       "0                                          4.831917   \n",
       "1                                          4.924236   \n",
       "2                                          5.035871   \n",
       "\n",
       "   Financial obligations ratio, seasonally adjusted  \n",
       "0                                         15.690103  \n",
       "1                                         15.761009  \n",
       "2                                         15.914829  "
      ]
     },
     "execution_count": 16,
     "metadata": {},
     "output_type": "execute_result"
    }
   ],
   "source": [
    "hhold.head(3)"
   ]
  },
  {
   "cell_type": "code",
   "execution_count": 17,
   "metadata": {},
   "outputs": [],
   "source": [
    "hhold['Series Description'] = hhold['Series Description'].astype('str')"
   ]
  },
  {
   "cell_type": "code",
   "execution_count": 18,
   "metadata": {},
   "outputs": [],
   "source": [
    "hhold['Quarter'] = hhold['Series Description'].str[4:6]"
   ]
  },
  {
   "cell_type": "code",
   "execution_count": 19,
   "metadata": {},
   "outputs": [],
   "source": [
    "hhold['Series Description'] = pd.DataFrame(hhold['Series Description'].str.split('Q',n=1,expand=True))"
   ]
  },
  {
   "cell_type": "code",
   "execution_count": 20,
   "metadata": {},
   "outputs": [
    {
     "data": {
      "text/html": [
       "<div>\n",
       "<style scoped>\n",
       "    .dataframe tbody tr th:only-of-type {\n",
       "        vertical-align: middle;\n",
       "    }\n",
       "\n",
       "    .dataframe tbody tr th {\n",
       "        vertical-align: top;\n",
       "    }\n",
       "\n",
       "    .dataframe thead th {\n",
       "        text-align: right;\n",
       "    }\n",
       "</style>\n",
       "<table border=\"1\" class=\"dataframe\">\n",
       "  <thead>\n",
       "    <tr style=\"text-align: right;\">\n",
       "      <th></th>\n",
       "      <th>Series Description</th>\n",
       "      <th>Debt service ratio, seasonally adjusted</th>\n",
       "      <th>Mortgage debt service ratio, seasonally adjusted</th>\n",
       "      <th>Consumer debt service ratio, seasonally adjusted</th>\n",
       "      <th>Financial obligations ratio, seasonally adjusted</th>\n",
       "      <th>Quarter</th>\n",
       "    </tr>\n",
       "  </thead>\n",
       "  <tbody>\n",
       "    <tr>\n",
       "      <th>42</th>\n",
       "      <td>2004</td>\n",
       "      <td>12.244783</td>\n",
       "      <td>5.929711</td>\n",
       "      <td>6.315073</td>\n",
       "      <td>16.897298</td>\n",
       "      <td>Q3</td>\n",
       "    </tr>\n",
       "    <tr>\n",
       "      <th>48</th>\n",
       "      <td>2006</td>\n",
       "      <td>12.608604</td>\n",
       "      <td>6.523358</td>\n",
       "      <td>6.085246</td>\n",
       "      <td>17.248805</td>\n",
       "      <td>Q1</td>\n",
       "    </tr>\n",
       "    <tr>\n",
       "      <th>96</th>\n",
       "      <td>2018</td>\n",
       "      <td>9.861202</td>\n",
       "      <td>4.250261</td>\n",
       "      <td>5.610941</td>\n",
       "      <td>15.331046</td>\n",
       "      <td>Q1</td>\n",
       "    </tr>\n",
       "  </tbody>\n",
       "</table>\n",
       "</div>"
      ],
      "text/plain": [
       "   Series Description  Debt service ratio, seasonally adjusted  \\\n",
       "42               2004                                12.244783   \n",
       "48               2006                                12.608604   \n",
       "96               2018                                 9.861202   \n",
       "\n",
       "    Mortgage debt service ratio, seasonally adjusted  \\\n",
       "42                                          5.929711   \n",
       "48                                          6.523358   \n",
       "96                                          4.250261   \n",
       "\n",
       "    Consumer debt service ratio, seasonally adjusted  \\\n",
       "42                                          6.315073   \n",
       "48                                          6.085246   \n",
       "96                                          5.610941   \n",
       "\n",
       "    Financial obligations ratio, seasonally adjusted Quarter  \n",
       "42                                         16.897298      Q3  \n",
       "48                                         17.248805      Q1  \n",
       "96                                         15.331046      Q1  "
      ]
     },
     "execution_count": 20,
     "metadata": {},
     "output_type": "execute_result"
    }
   ],
   "source": [
    "hhold.sample(3)"
   ]
  },
  {
   "cell_type": "code",
   "execution_count": 21,
   "metadata": {},
   "outputs": [],
   "source": [
    "house = hhold[hhold['Quarter'] == 'Q1']"
   ]
  },
  {
   "cell_type": "code",
   "execution_count": 22,
   "metadata": {},
   "outputs": [
    {
     "data": {
      "text/html": [
       "<div>\n",
       "<style scoped>\n",
       "    .dataframe tbody tr th:only-of-type {\n",
       "        vertical-align: middle;\n",
       "    }\n",
       "\n",
       "    .dataframe tbody tr th {\n",
       "        vertical-align: top;\n",
       "    }\n",
       "\n",
       "    .dataframe thead th {\n",
       "        text-align: right;\n",
       "    }\n",
       "</style>\n",
       "<table border=\"1\" class=\"dataframe\">\n",
       "  <thead>\n",
       "    <tr style=\"text-align: right;\">\n",
       "      <th></th>\n",
       "      <th>Series Description</th>\n",
       "      <th>Debt service ratio, seasonally adjusted</th>\n",
       "      <th>Mortgage debt service ratio, seasonally adjusted</th>\n",
       "      <th>Consumer debt service ratio, seasonally adjusted</th>\n",
       "      <th>Financial obligations ratio, seasonally adjusted</th>\n",
       "      <th>Quarter</th>\n",
       "    </tr>\n",
       "  </thead>\n",
       "  <tbody>\n",
       "    <tr>\n",
       "      <th>0</th>\n",
       "      <td>1994</td>\n",
       "      <td>10.388445</td>\n",
       "      <td>5.556527</td>\n",
       "      <td>4.831917</td>\n",
       "      <td>15.690103</td>\n",
       "      <td>Q1</td>\n",
       "    </tr>\n",
       "    <tr>\n",
       "      <th>4</th>\n",
       "      <td>1995</td>\n",
       "      <td>10.888513</td>\n",
       "      <td>5.640501</td>\n",
       "      <td>5.248012</td>\n",
       "      <td>16.198637</td>\n",
       "      <td>Q1</td>\n",
       "    </tr>\n",
       "    <tr>\n",
       "      <th>8</th>\n",
       "      <td>1996</td>\n",
       "      <td>11.242343</td>\n",
       "      <td>5.589139</td>\n",
       "      <td>5.653204</td>\n",
       "      <td>16.558361</td>\n",
       "      <td>Q1</td>\n",
       "    </tr>\n",
       "    <tr>\n",
       "      <th>12</th>\n",
       "      <td>1997</td>\n",
       "      <td>11.328849</td>\n",
       "      <td>5.603136</td>\n",
       "      <td>5.725713</td>\n",
       "      <td>16.631998</td>\n",
       "      <td>Q1</td>\n",
       "    </tr>\n",
       "    <tr>\n",
       "      <th>16</th>\n",
       "      <td>1998</td>\n",
       "      <td>11.144147</td>\n",
       "      <td>5.515538</td>\n",
       "      <td>5.628610</td>\n",
       "      <td>16.325270</td>\n",
       "      <td>Q1</td>\n",
       "    </tr>\n",
       "  </tbody>\n",
       "</table>\n",
       "</div>"
      ],
      "text/plain": [
       "   Series Description  Debt service ratio, seasonally adjusted  \\\n",
       "0                1994                                10.388445   \n",
       "4                1995                                10.888513   \n",
       "8                1996                                11.242343   \n",
       "12               1997                                11.328849   \n",
       "16               1998                                11.144147   \n",
       "\n",
       "    Mortgage debt service ratio, seasonally adjusted  \\\n",
       "0                                           5.556527   \n",
       "4                                           5.640501   \n",
       "8                                           5.589139   \n",
       "12                                          5.603136   \n",
       "16                                          5.515538   \n",
       "\n",
       "    Consumer debt service ratio, seasonally adjusted  \\\n",
       "0                                           4.831917   \n",
       "4                                           5.248012   \n",
       "8                                           5.653204   \n",
       "12                                          5.725713   \n",
       "16                                          5.628610   \n",
       "\n",
       "    Financial obligations ratio, seasonally adjusted Quarter  \n",
       "0                                          15.690103      Q1  \n",
       "4                                          16.198637      Q1  \n",
       "8                                          16.558361      Q1  \n",
       "12                                         16.631998      Q1  \n",
       "16                                         16.325270      Q1  "
      ]
     },
     "execution_count": 22,
     "metadata": {},
     "output_type": "execute_result"
    }
   ],
   "source": [
    "house.head()"
   ]
  },
  {
   "cell_type": "code",
   "execution_count": 23,
   "metadata": {},
   "outputs": [],
   "source": [
    "house.columns = ['year', 'debt_ratio','mortgage','consumer','financial','quarter']"
   ]
  },
  {
   "cell_type": "code",
   "execution_count": 24,
   "metadata": {},
   "outputs": [
    {
     "name": "stderr",
     "output_type": "stream",
     "text": [
      "C:\\Users\\Brett\\AppData\\Local\\Continuum\\anaconda3\\lib\\site-packages\\ipykernel_launcher.py:1: SettingWithCopyWarning: \n",
      "A value is trying to be set on a copy of a slice from a DataFrame.\n",
      "Try using .loc[row_indexer,col_indexer] = value instead\n",
      "\n",
      "See the caveats in the documentation: http://pandas.pydata.org/pandas-docs/stable/indexing.html#indexing-view-versus-copy\n",
      "  \"\"\"Entry point for launching an IPython kernel.\n"
     ]
    }
   ],
   "source": [
    "house['year'] = house['year'].astype('int64')"
   ]
  },
  {
   "cell_type": "code",
   "execution_count": 25,
   "metadata": {},
   "outputs": [
    {
     "data": {
      "text/html": [
       "<div>\n",
       "<style scoped>\n",
       "    .dataframe tbody tr th:only-of-type {\n",
       "        vertical-align: middle;\n",
       "    }\n",
       "\n",
       "    .dataframe tbody tr th {\n",
       "        vertical-align: top;\n",
       "    }\n",
       "\n",
       "    .dataframe thead th {\n",
       "        text-align: right;\n",
       "    }\n",
       "</style>\n",
       "<table border=\"1\" class=\"dataframe\">\n",
       "  <thead>\n",
       "    <tr style=\"text-align: right;\">\n",
       "      <th></th>\n",
       "      <th>year</th>\n",
       "      <th>debt_ratio</th>\n",
       "      <th>mortgage</th>\n",
       "      <th>consumer</th>\n",
       "      <th>financial</th>\n",
       "      <th>quarter</th>\n",
       "    </tr>\n",
       "  </thead>\n",
       "  <tbody>\n",
       "    <tr>\n",
       "      <th>0</th>\n",
       "      <td>1994</td>\n",
       "      <td>10.388445</td>\n",
       "      <td>5.556527</td>\n",
       "      <td>4.831917</td>\n",
       "      <td>15.690103</td>\n",
       "      <td>Q1</td>\n",
       "    </tr>\n",
       "    <tr>\n",
       "      <th>4</th>\n",
       "      <td>1995</td>\n",
       "      <td>10.888513</td>\n",
       "      <td>5.640501</td>\n",
       "      <td>5.248012</td>\n",
       "      <td>16.198637</td>\n",
       "      <td>Q1</td>\n",
       "    </tr>\n",
       "    <tr>\n",
       "      <th>8</th>\n",
       "      <td>1996</td>\n",
       "      <td>11.242343</td>\n",
       "      <td>5.589139</td>\n",
       "      <td>5.653204</td>\n",
       "      <td>16.558361</td>\n",
       "      <td>Q1</td>\n",
       "    </tr>\n",
       "    <tr>\n",
       "      <th>12</th>\n",
       "      <td>1997</td>\n",
       "      <td>11.328849</td>\n",
       "      <td>5.603136</td>\n",
       "      <td>5.725713</td>\n",
       "      <td>16.631998</td>\n",
       "      <td>Q1</td>\n",
       "    </tr>\n",
       "    <tr>\n",
       "      <th>16</th>\n",
       "      <td>1998</td>\n",
       "      <td>11.144147</td>\n",
       "      <td>5.515538</td>\n",
       "      <td>5.628610</td>\n",
       "      <td>16.325270</td>\n",
       "      <td>Q1</td>\n",
       "    </tr>\n",
       "  </tbody>\n",
       "</table>\n",
       "</div>"
      ],
      "text/plain": [
       "    year  debt_ratio  mortgage  consumer  financial quarter\n",
       "0   1994   10.388445  5.556527  4.831917  15.690103      Q1\n",
       "4   1995   10.888513  5.640501  5.248012  16.198637      Q1\n",
       "8   1996   11.242343  5.589139  5.653204  16.558361      Q1\n",
       "12  1997   11.328849  5.603136  5.725713  16.631998      Q1\n",
       "16  1998   11.144147  5.515538  5.628610  16.325270      Q1"
      ]
     },
     "execution_count": 25,
     "metadata": {},
     "output_type": "execute_result"
    }
   ],
   "source": [
    "house.head()"
   ]
  },
  {
   "cell_type": "markdown",
   "metadata": {},
   "source": [
    "Definitions  \n",
    "**Mortgage** = Mortgage debt / disposable income  \n",
    "**Consumer** = consumption debt / disposable income  \n",
    "**Debt ratio** = mortgage + consumer  \n",
    "**Financial:** Broader scope of debt that includes rent payments, car leases, various sources of debt."
   ]
  },
  {
   "cell_type": "code",
   "execution_count": 26,
   "metadata": {},
   "outputs": [
    {
     "data": {
      "image/png": "[encoded data removed]",
      "text/plain": [
       "<Figure size 432x288 with 1 Axes>"
      ]
     },
     "metadata": {
      "needs_background": "light"
     },
     "output_type": "display_data"
    }
   ],
   "source": [
    "house.plot(x='year',y=['debt_ratio','mortgage','consumer','financial'])\n",
    "plt.ylabel('% of income')\n",
    "plt.show()"
   ]
  },
  {
   "cell_type": "code",
   "execution_count": 27,
   "metadata": {},
   "outputs": [],
   "source": [
    "budgdp.set_index('Year', inplace=True)\n",
    "house.set_index('year', inplace=True)"
   ]
  },
  {
   "cell_type": "code",
   "execution_count": 28,
   "metadata": {},
   "outputs": [],
   "source": [
    "budgdp94 = budgdp.loc[1994:]"
   ]
  },
  {
   "cell_type": "code",
   "execution_count": 29,
   "metadata": {},
   "outputs": [
    {
     "data": {
      "image/png": "[encoded data removed]",
      "text/plain": [
       "<Figure size 1152x648 with 1 Axes>"
      ]
     },
     "metadata": {
      "needs_background": "light"
     },
     "output_type": "display_data"
    }
   ],
   "source": [
    "fig, ax = plt.subplots(figsize = (16,9))\n",
    "ax.plot(budgdp94.Outlays)\n",
    "ax.plot(budgdp94.Total)\n",
    "ax.plot(house.mortgage)\n",
    "ax.plot(house.consumer)\n",
    "ax.plot(house.debt_ratio)\n",
    "plt.ylabel('% in terms of GDP (Outlays) or Income (Households)')\n",
    "ax.legend()\n",
    "plt.show()"
   ]
  },
  {
   "cell_type": "markdown",
   "metadata": {},
   "source": [
    "Questions\n",
    "1. Do Federal politicians have a greater impact from year to year on Outlays or Revenues? My gut says year to year, Outlays would be a better measurement to this hypothesis. However, when politicians do make changes to Revenues (taxes), they can have an outsized effect.\n",
    "2. How do we normalize for GDP? Another benefit to Outlays over Revenues is the actual metric is shielded somewhat from GDP growth/shrinkage. IE, given a constant tax rate the government Revenues could vary based on how the economy did overall for the year. But, assuming the government Outlays budget for any given year is constant, the percentage of GDP will fluctuate given how the economy did for that year as well.\n",
    "3. The same is true about households and normalizing for income\n",
    "4. Do we need to normalize for housing prices given how much disposable income is tied up in mortgages?\n",
    "5. Is there anything we can learn from the relationship between consumption debt and mortgage debt?\n",
    "\n"
   ]
  },
  {
   "cell_type": "markdown",
   "metadata": {},
   "source": [
    "## Is there a relationship between our debt ratio (as % of income) and GDP?\n",
    "\n",
    "Do people take on more debt irrationally when things are good?\n",
    "GDP data is taken from the World Bank.\n",
    "https://data.worldbank.org/indicator/NY.GDP.MKTP.KD.ZG?locations=US"
   ]
  },
  {
   "cell_type": "code",
   "execution_count": 31,
   "metadata": {},
   "outputs": [],
   "source": [
    "gdp = pd.read_csv('./Desktop/GDP.csv', skiprows=4)"
   ]
  },
  {
   "cell_type": "code",
   "execution_count": 32,
   "metadata": {},
   "outputs": [
    {
     "data": {
      "text/html": [
       "<div>\n",
       "<style scoped>\n",
       "    .dataframe tbody tr th:only-of-type {\n",
       "        vertical-align: middle;\n",
       "    }\n",
       "\n",
       "    .dataframe tbody tr th {\n",
       "        vertical-align: top;\n",
       "    }\n",
       "\n",
       "    .dataframe thead th {\n",
       "        text-align: right;\n",
       "    }\n",
       "</style>\n",
       "<table border=\"1\" class=\"dataframe\">\n",
       "  <thead>\n",
       "    <tr style=\"text-align: right;\">\n",
       "      <th></th>\n",
       "      <th>Country Name</th>\n",
       "      <th>Country Code</th>\n",
       "      <th>Indicator Name</th>\n",
       "      <th>Indicator Code</th>\n",
       "      <th>1960</th>\n",
       "      <th>1961</th>\n",
       "      <th>1962</th>\n",
       "      <th>1963</th>\n",
       "      <th>1964</th>\n",
       "      <th>1965</th>\n",
       "      <th>...</th>\n",
       "      <th>2010</th>\n",
       "      <th>2011</th>\n",
       "      <th>2012</th>\n",
       "      <th>2013</th>\n",
       "      <th>2014</th>\n",
       "      <th>2015</th>\n",
       "      <th>2016</th>\n",
       "      <th>2017</th>\n",
       "      <th>2018</th>\n",
       "      <th>Unnamed: 63</th>\n",
       "    </tr>\n",
       "  </thead>\n",
       "  <tbody>\n",
       "    <tr>\n",
       "      <th>0</th>\n",
       "      <td>Aruba</td>\n",
       "      <td>ABW</td>\n",
       "      <td>GDP growth (annual %)</td>\n",
       "      <td>NY.GDP.MKTP.KD.ZG</td>\n",
       "      <td>NaN</td>\n",
       "      <td>NaN</td>\n",
       "      <td>NaN</td>\n",
       "      <td>NaN</td>\n",
       "      <td>NaN</td>\n",
       "      <td>NaN</td>\n",
       "      <td>...</td>\n",
       "      <td>-3.685030</td>\n",
       "      <td>3.446055</td>\n",
       "      <td>-1.369863</td>\n",
       "      <td>4.198232</td>\n",
       "      <td>0.848228</td>\n",
       "      <td>-0.450586</td>\n",
       "      <td>-0.211225</td>\n",
       "      <td>1.330511</td>\n",
       "      <td>NaN</td>\n",
       "      <td>NaN</td>\n",
       "    </tr>\n",
       "    <tr>\n",
       "      <th>1</th>\n",
       "      <td>Afghanistan</td>\n",
       "      <td>AFG</td>\n",
       "      <td>GDP growth (annual %)</td>\n",
       "      <td>NY.GDP.MKTP.KD.ZG</td>\n",
       "      <td>NaN</td>\n",
       "      <td>NaN</td>\n",
       "      <td>NaN</td>\n",
       "      <td>NaN</td>\n",
       "      <td>NaN</td>\n",
       "      <td>NaN</td>\n",
       "      <td>...</td>\n",
       "      <td>14.362441</td>\n",
       "      <td>0.426355</td>\n",
       "      <td>12.752287</td>\n",
       "      <td>5.600745</td>\n",
       "      <td>2.724543</td>\n",
       "      <td>1.451315</td>\n",
       "      <td>2.260314</td>\n",
       "      <td>2.665292</td>\n",
       "      <td>NaN</td>\n",
       "      <td>NaN</td>\n",
       "    </tr>\n",
       "    <tr>\n",
       "      <th>2</th>\n",
       "      <td>Angola</td>\n",
       "      <td>AGO</td>\n",
       "      <td>GDP growth (annual %)</td>\n",
       "      <td>NY.GDP.MKTP.KD.ZG</td>\n",
       "      <td>NaN</td>\n",
       "      <td>NaN</td>\n",
       "      <td>NaN</td>\n",
       "      <td>NaN</td>\n",
       "      <td>NaN</td>\n",
       "      <td>NaN</td>\n",
       "      <td>...</td>\n",
       "      <td>4.859220</td>\n",
       "      <td>3.471981</td>\n",
       "      <td>8.542147</td>\n",
       "      <td>4.954590</td>\n",
       "      <td>4.822626</td>\n",
       "      <td>0.943576</td>\n",
       "      <td>-2.580097</td>\n",
       "      <td>-0.147207</td>\n",
       "      <td>NaN</td>\n",
       "      <td>NaN</td>\n",
       "    </tr>\n",
       "  </tbody>\n",
       "</table>\n",
       "<p>3 rows × 64 columns</p>\n",
       "</div>"
      ],
      "text/plain": [
       "  Country Name Country Code         Indicator Name     Indicator Code  1960  \\\n",
       "0        Aruba          ABW  GDP growth (annual %)  NY.GDP.MKTP.KD.ZG   NaN   \n",
       "1  Afghanistan          AFG  GDP growth (annual %)  NY.GDP.MKTP.KD.ZG   NaN   \n",
       "2       Angola          AGO  GDP growth (annual %)  NY.GDP.MKTP.KD.ZG   NaN   \n",
       "\n",
       "   1961  1962  1963  1964  1965     ...            2010      2011       2012  \\\n",
       "0   NaN   NaN   NaN   NaN   NaN     ...       -3.685030  3.446055  -1.369863   \n",
       "1   NaN   NaN   NaN   NaN   NaN     ...       14.362441  0.426355  12.752287   \n",
       "2   NaN   NaN   NaN   NaN   NaN     ...        4.859220  3.471981   8.542147   \n",
       "\n",
       "       2013      2014      2015      2016      2017  2018  Unnamed: 63  \n",
       "0  4.198232  0.848228 -0.450586 -0.211225  1.330511   NaN          NaN  \n",
       "1  5.600745  2.724543  1.451315  2.260314  2.665292   NaN          NaN  \n",
       "2  4.954590  4.822626  0.943576 -2.580097 -0.147207   NaN          NaN  \n",
       "\n",
       "[3 rows x 64 columns]"
      ]
     },
     "execution_count": 32,
     "metadata": {},
     "output_type": "execute_result"
    }
   ],
   "source": [
    "gdp.head(3)"
   ]
  },
  {
   "cell_type": "code",
   "execution_count": 33,
   "metadata": {},
   "outputs": [],
   "source": [
    "us_gdp = gdp[gdp['Country Code']=='USA']"
   ]
  },
  {
   "cell_type": "code",
   "execution_count": 48,
   "metadata": {},
   "outputs": [
    {
     "data": {
      "text/html": [
       "<div>\n",
       "<style scoped>\n",
       "    .dataframe tbody tr th:only-of-type {\n",
       "        vertical-align: middle;\n",
       "    }\n",
       "\n",
       "    .dataframe tbody tr th {\n",
       "        vertical-align: top;\n",
       "    }\n",
       "\n",
       "    .dataframe thead th {\n",
       "        text-align: right;\n",
       "    }\n",
       "</style>\n",
       "<table border=\"1\" class=\"dataframe\">\n",
       "  <thead>\n",
       "    <tr style=\"text-align: right;\">\n",
       "      <th></th>\n",
       "      <th>Country Name</th>\n",
       "      <th>Country Code</th>\n",
       "      <th>Indicator Name</th>\n",
       "      <th>Indicator Code</th>\n",
       "      <th>1960</th>\n",
       "      <th>1961</th>\n",
       "      <th>1962</th>\n",
       "      <th>1963</th>\n",
       "      <th>1964</th>\n",
       "      <th>1965</th>\n",
       "      <th>...</th>\n",
       "      <th>2010</th>\n",
       "      <th>2011</th>\n",
       "      <th>2012</th>\n",
       "      <th>2013</th>\n",
       "      <th>2014</th>\n",
       "      <th>2015</th>\n",
       "      <th>2016</th>\n",
       "      <th>2017</th>\n",
       "      <th>2018</th>\n",
       "      <th>Unnamed: 63</th>\n",
       "    </tr>\n",
       "  </thead>\n",
       "  <tbody>\n",
       "    <tr>\n",
       "      <th>249</th>\n",
       "      <td>United States</td>\n",
       "      <td>USA</td>\n",
       "      <td>GDP growth (annual %)</td>\n",
       "      <td>NY.GDP.MKTP.KD.ZG</td>\n",
       "      <td>NaN</td>\n",
       "      <td>2.3</td>\n",
       "      <td>6.1</td>\n",
       "      <td>4.4</td>\n",
       "      <td>5.8</td>\n",
       "      <td>6.4</td>\n",
       "      <td>...</td>\n",
       "      <td>2.721577</td>\n",
       "      <td>1.550836</td>\n",
       "      <td>2.249546</td>\n",
       "      <td>1.842081</td>\n",
       "      <td>2.451973</td>\n",
       "      <td>2.88091</td>\n",
       "      <td>1.567215</td>\n",
       "      <td>2.21701</td>\n",
       "      <td>NaN</td>\n",
       "      <td>NaN</td>\n",
       "    </tr>\n",
       "  </tbody>\n",
       "</table>\n",
       "<p>1 rows × 64 columns</p>\n",
       "</div>"
      ],
      "text/plain": [
       "      Country Name Country Code         Indicator Name     Indicator Code  \\\n",
       "249  United States          USA  GDP growth (annual %)  NY.GDP.MKTP.KD.ZG   \n",
       "\n",
       "     1960  1961  1962  1963  1964  1965     ...           2010      2011  \\\n",
       "249   NaN   2.3   6.1   4.4   5.8   6.4     ...       2.721577  1.550836   \n",
       "\n",
       "         2012      2013      2014     2015      2016     2017  2018  \\\n",
       "249  2.249546  1.842081  2.451973  2.88091  1.567215  2.21701   NaN   \n",
       "\n",
       "     Unnamed: 63  \n",
       "249          NaN  \n",
       "\n",
       "[1 rows x 64 columns]"
      ]
     },
     "execution_count": 48,
     "metadata": {},
     "output_type": "execute_result"
    }
   ],
   "source": [
    "us_gdp"
   ]
  },
  {
   "cell_type": "code",
   "execution_count": 71,
   "metadata": {},
   "outputs": [],
   "source": [
    "us_gdp2 = us_gdp.drop(['Country Name','Country Code','Indicator Name', 'Indicator Code'],axis=1)"
   ]
  },
  {
   "cell_type": "code",
   "execution_count": 73,
   "metadata": {},
   "outputs": [],
   "source": [
    "us_gdp2 = us_gdp2.transpose()"
   ]
  },
  {
   "cell_type": "code",
   "execution_count": 85,
   "metadata": {},
   "outputs": [],
   "source": [
    "us_gdp2.index.names = ['year']\n",
    "us_gdp2.columns = ['gdp_change']"
   ]
  },
  {
   "cell_type": "code",
   "execution_count": 87,
   "metadata": {},
   "outputs": [],
   "source": [
    "us_gdp_94 = us_gdp2.loc['1994':'2017']"
   ]
  },
  {
   "cell_type": "code",
   "execution_count": 104,
   "metadata": {},
   "outputs": [],
   "source": [
    "us_gdp_94.index = us_gdp_94.index.astype('int64',copy=False)"
   ]
  },
  {
   "cell_type": "code",
   "execution_count": 106,
   "metadata": {},
   "outputs": [
    {
     "data": {
      "image/png": "[encoded data removed]",
      "text/plain": [
       "<Figure size 1152x648 with 1 Axes>"
      ]
     },
     "metadata": {
      "needs_background": "light"
     },
     "output_type": "display_data"
    }
   ],
   "source": [
    "fig, ax = plt.subplots(figsize = (16,9))\n",
    "ax.plot(us_gdp_94.gdp_change)\n",
    "ax.plot(house.debt_ratio)\n",
    "plt.ylabel('% of Income (Households) or % change in GDP')\n",
    "ax.legend()\n",
    "plt.show()"
   ]
  },
  {
   "cell_type": "markdown",
   "metadata": {},
   "source": [
    "The data set is a little short overall to make any real conclusion. We know looking back that the recession was largely debt fueled, so what is really needed is much more data to see if we can find recurring patterns over time or if this is just specific to this particular downturn."
   ]
  }
 ],
 "metadata": {
  "kernelspec": {
   "display_name": "Python 3",
   "language": "python",
   "name": "python3"
  },
  "language_info": {
   "codemirror_mode": {
    "name": "ipython",
    "version": 3
   },
   "file_extension": ".py",
   "mimetype": "text/x-python",
   "name": "python",
   "nbconvert_exporter": "python",
   "pygments_lexer": "ipython3",
   "version": "3.7.1"
  }
 },
 "nbformat": 4,
 "nbformat_minor": 2
}
